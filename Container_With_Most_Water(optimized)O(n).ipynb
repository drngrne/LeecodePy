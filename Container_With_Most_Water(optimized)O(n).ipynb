{
  "nbformat": 4,
  "nbformat_minor": 0,
  "metadata": {
    "colab": {
      "provenance": [],
      "authorship_tag": "ABX9TyMgIyjuMM6W9tdhOmQWd2nu"
    },
    "kernelspec": {
      "name": "python3",
      "display_name": "Python 3"
    },
    "language_info": {
      "name": "python"
    }
  },
  "cells": [
    {
      "cell_type": "code",
      "execution_count": 7,
      "metadata": {
        "id": "h832rPqWC-ME"
      },
      "outputs": [],
      "source": [
        "class Solution(object):\n",
        "    def maxArea(self, height):\n",
        "\n",
        "        area = 0\n",
        "        i = 0\n",
        "        j = len(height)-1\n",
        "        while i < j:\n",
        "            area = max(area, min(height[i], height[j]) * (j-i))\n",
        "            if height[i] <= height[j]:\n",
        "                i+=1\n",
        "            else:\n",
        "                j-=1\n",
        "\n",
        "        return area"
      ]
    },
    {
      "cell_type": "code",
      "source": [
        "sola = Solution()"
      ],
      "metadata": {
        "id": "fjDRmB7UDA8N"
      },
      "execution_count": 5,
      "outputs": []
    },
    {
      "cell_type": "code",
      "source": [
        "height = [1,8,6,2,5,4,8,3,7]\n",
        "print(sola.maxArea(height))"
      ],
      "metadata": {
        "colab": {
          "base_uri": "https://localhost:8080/"
        },
        "id": "jx_7LG7QDDl-",
        "outputId": "e4400d89-ac34-4962-9c7d-70744c437f72"
      },
      "execution_count": 6,
      "outputs": [
        {
          "output_type": "stream",
          "name": "stdout",
          "text": [
            "49\n"
          ]
        }
      ]
    }
  ]
}