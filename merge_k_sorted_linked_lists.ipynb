{
  "nbformat": 4,
  "nbformat_minor": 0,
  "metadata": {
    "colab": {
      "provenance": [],
      "authorship_tag": "ABX9TyOhzFCiNiUaCyeVUxUAbpN5"
    },
    "kernelspec": {
      "name": "python3",
      "display_name": "Python 3"
    },
    "language_info": {
      "name": "python"
    }
  },
  "cells": [
    {
      "cell_type": "code",
      "execution_count": 2,
      "metadata": {
        "id": "uRqmHs6VQXGr"
      },
      "outputs": [],
      "source": [
        "# Definition for singly-linked list.\n",
        "class ListNode(object):\n",
        "    def __init__(self, val=0, next=None):\n",
        "        self.val = val\n",
        "        self.next = next\n",
        "\n",
        "class Solution(object):\n",
        "    def mergeKLists(self, lists):\n",
        "\n",
        "        if not lists or len(lists) == 0:\n",
        "            return None\n",
        "\n",
        "        while len(lists) > 1:\n",
        "            combo = []\n",
        "            for i in range(0, len(lists), 2):\n",
        "                l1 = lists[i]\n",
        "                l2 = lists[i+1] if (i+1) < len(lists) else None\n",
        "                combo.append(self.mergeList(l1, l2))\n",
        "            lists = combo\n",
        "\n",
        "        return lists[0]\n",
        "\n",
        "\n",
        "    def mergeList(self, l1, l2):\n",
        "        mergedL = ListNode()\n",
        "        currNode = mergedL\n",
        "        while l1 and l2:\n",
        "            if l1.val < l2.val:\n",
        "                currNode.next = l1\n",
        "                currNode = currNode.next\n",
        "                l1 = l1.next\n",
        "            elif l2.val < l1.val:\n",
        "                currNode.next = l2\n",
        "                currNode = currNode.next\n",
        "                l2 = l2.next\n",
        "            else:\n",
        "                currNode.next = l1\n",
        "                currNode = currNode.next\n",
        "                l1 = l1.next\n",
        "                currNode.next = l2\n",
        "                currNode = currNode.next\n",
        "                l2 = l2.next\n",
        "\n",
        "        if l1:\n",
        "            currNode.next = l1\n",
        "        if l2:\n",
        "            currNode.next  = l2\n",
        "\n",
        "        return mergedL.next"
      ]
    }
  ]
}