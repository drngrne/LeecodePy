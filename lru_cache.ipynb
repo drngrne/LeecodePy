{
  "nbformat": 4,
  "nbformat_minor": 0,
  "metadata": {
    "colab": {
      "provenance": [],
      "authorship_tag": "ABX9TyOgXahXKsCIbVUqcd2S+dF2"
    },
    "kernelspec": {
      "name": "python3",
      "display_name": "Python 3"
    },
    "language_info": {
      "name": "python"
    }
  },
  "cells": [
    {
      "cell_type": "code",
      "source": [
        "class Node(object):\n",
        "    def __init__(self, key, val):\n",
        "        self.key, self.val = key, val\n",
        "        self.prev = self.next = None\n",
        "\n",
        "class LRUCache(object):\n",
        "    def __init__(self, capacity):\n",
        "        self.tot, self.capacity = 0, capacity\n",
        "        self.hm = {}\n",
        "        self.head = self.tail = None\n",
        "\n",
        "\n",
        "    def get(self, key):\n",
        "        if key in self.hm:\n",
        "            currNode = self.hm[key]\n",
        "            prev = currNode.prev\n",
        "            next = currNode.next\n",
        "            if currNode is self.tail or currNode is self.head:\n",
        "                if currNode is self.head:\n",
        "                    if next:\n",
        "                        next.prev = None\n",
        "                        self.head = next\n",
        "                        self.tail.next = currNode\n",
        "                        currNode.prev = self.tail\n",
        "                        currNode.next = None\n",
        "                        self.tail = currNode\n",
        "                        return currNode.val\n",
        "                    else:\n",
        "                        return currNode.val\n",
        "                else:\n",
        "                    return self.tail.val\n",
        "            else:\n",
        "                prev.next = next\n",
        "                next.prev = prev\n",
        "                self.tail.next = currNode\n",
        "                currNode.prev = self.tail\n",
        "                currNode.next = None\n",
        "                self.tail = currNode\n",
        "                return currNode.val\n",
        "        else:\n",
        "            return -1\n",
        "\n",
        "\n",
        "    def put(self, key, value):\n",
        "        if key in self.hm:\n",
        "            currNode = self.hm[key]\n",
        "            currNode.val = value\n",
        "            prev = currNode.prev\n",
        "            next = currNode.next\n",
        "            if currNode is self.tail or currNode is self.head:\n",
        "                if currNode is self.head:\n",
        "                    next.prev = None\n",
        "                    self.head = next\n",
        "                    self.tail.next = currNode\n",
        "                    currNode.prev = self.tail\n",
        "                    currNode.next = None\n",
        "                    self.tail = currNode\n",
        "                else:\n",
        "                    pass\n",
        "            else:\n",
        "                prev.next = next\n",
        "                next.prev = prev\n",
        "                self.tail.next = currNode\n",
        "                currNode.prev = self.tail\n",
        "                currNode.next = None\n",
        "                self.tail = currNode\n",
        "        elif self.hm:\n",
        "            if self.tot < self.capacity:\n",
        "                self.tot += 1\n",
        "                node = Node(key, value)\n",
        "                self.tail.next = node\n",
        "                node.prev = self.tail\n",
        "                self.tail = node\n",
        "                self.hm[key] = self.tail\n",
        "            else:\n",
        "                node = Node(key, value)\n",
        "                self.tail.next = node\n",
        "                node.prev = self.tail\n",
        "                self.tail = node\n",
        "                self.hm[key] = self.tail\n",
        "                del self.hm[self.head.key]\n",
        "                headNext = self.head.next\n",
        "                headNext.prev = None\n",
        "                self.head = headNext\n",
        "\n",
        "        else:\n",
        "            node = Node(key, value)\n",
        "            self.tot += 1\n",
        "            self.hm[key] = node\n",
        "            self.head = self.tail = node"
      ],
      "metadata": {
        "id": "qF-uirzGT7nR"
      },
      "execution_count": null,
      "outputs": []
    },
    {
      "cell_type": "code",
      "source": [
        "lru = LRUCache(2)"
      ],
      "metadata": {
        "id": "-l3a7ptQcZm0"
      },
      "execution_count": null,
      "outputs": []
    },
    {
      "cell_type": "code",
      "source": [
        "lru.put(1,0)\n",
        "lru.put(2,2)\n",
        "lru.get(1)"
      ],
      "metadata": {
        "colab": {
          "base_uri": "https://localhost:8080/"
        },
        "id": "GME-J_upj-RX",
        "outputId": "6c68a4b7-9563-457f-c077-3e9baf93a4c1"
      },
      "execution_count": null,
      "outputs": [
        {
          "output_type": "execute_result",
          "data": {
            "text/plain": [
              "0"
            ]
          },
          "metadata": {},
          "execution_count": 62
        }
      ]
    },
    {
      "cell_type": "code",
      "source": [
        "lru.put(3,3)"
      ],
      "metadata": {
        "id": "7JbTMM3t0v52"
      },
      "execution_count": null,
      "outputs": []
    },
    {
      "cell_type": "code",
      "source": [
        "lru.get(2)"
      ],
      "metadata": {
        "colab": {
          "base_uri": "https://localhost:8080/"
        },
        "id": "WtXiupkw00Gl",
        "outputId": "3e7a1e94-26b4-45e7-bc31-003c5fc28ab3"
      },
      "execution_count": null,
      "outputs": [
        {
          "output_type": "execute_result",
          "data": {
            "text/plain": [
              "-1"
            ]
          },
          "metadata": {},
          "execution_count": 64
        }
      ]
    },
    {
      "cell_type": "code",
      "source": [
        "lru.put(4,4)"
      ],
      "metadata": {
        "colab": {
          "base_uri": "https://localhost:8080/",
          "height": 283
        },
        "id": "wI4e8Uos074E",
        "outputId": "355fb89b-f7c7-407c-8e1c-cd74799ef94d"
      },
      "execution_count": null,
      "outputs": [
        {
          "output_type": "error",
          "ename": "KeyError",
          "evalue": "0",
          "traceback": [
            "\u001b[0;31m---------------------------------------------------------------------------\u001b[0m",
            "\u001b[0;31mKeyError\u001b[0m                                  Traceback (most recent call last)",
            "\u001b[0;32m<ipython-input-65-cee27bebcff3>\u001b[0m in \u001b[0;36m<cell line: 1>\u001b[0;34m()\u001b[0m\n\u001b[0;32m----> 1\u001b[0;31m \u001b[0mlru\u001b[0m\u001b[0;34m.\u001b[0m\u001b[0mput\u001b[0m\u001b[0;34m(\u001b[0m\u001b[0;36m4\u001b[0m\u001b[0;34m,\u001b[0m\u001b[0;36m4\u001b[0m\u001b[0;34m)\u001b[0m\u001b[0;34m\u001b[0m\u001b[0;34m\u001b[0m\u001b[0m\n\u001b[0m",
            "\u001b[0;32m<ipython-input-60-97f8860fd250>\u001b[0m in \u001b[0;36mput\u001b[0;34m(self, key, value)\u001b[0m\n\u001b[1;32m     79\u001b[0m                 \u001b[0mself\u001b[0m\u001b[0;34m.\u001b[0m\u001b[0mtail\u001b[0m \u001b[0;34m=\u001b[0m \u001b[0mnode\u001b[0m\u001b[0;34m\u001b[0m\u001b[0;34m\u001b[0m\u001b[0m\n\u001b[1;32m     80\u001b[0m                 \u001b[0mself\u001b[0m\u001b[0;34m.\u001b[0m\u001b[0mhm\u001b[0m\u001b[0;34m[\u001b[0m\u001b[0mkey\u001b[0m\u001b[0;34m]\u001b[0m \u001b[0;34m=\u001b[0m \u001b[0mself\u001b[0m\u001b[0;34m.\u001b[0m\u001b[0mtail\u001b[0m\u001b[0;34m\u001b[0m\u001b[0;34m\u001b[0m\u001b[0m\n\u001b[0;32m---> 81\u001b[0;31m                 \u001b[0;32mdel\u001b[0m \u001b[0mself\u001b[0m\u001b[0;34m.\u001b[0m\u001b[0mhm\u001b[0m\u001b[0;34m[\u001b[0m\u001b[0mself\u001b[0m\u001b[0;34m.\u001b[0m\u001b[0mhead\u001b[0m\u001b[0;34m.\u001b[0m\u001b[0mval\u001b[0m\u001b[0;34m]\u001b[0m\u001b[0;34m\u001b[0m\u001b[0;34m\u001b[0m\u001b[0m\n\u001b[0m\u001b[1;32m     82\u001b[0m                 \u001b[0mheadNext\u001b[0m \u001b[0;34m=\u001b[0m \u001b[0mself\u001b[0m\u001b[0;34m.\u001b[0m\u001b[0mhead\u001b[0m\u001b[0;34m.\u001b[0m\u001b[0mnext\u001b[0m\u001b[0;34m\u001b[0m\u001b[0;34m\u001b[0m\u001b[0m\n\u001b[1;32m     83\u001b[0m                 \u001b[0mheadNext\u001b[0m\u001b[0;34m.\u001b[0m\u001b[0mprev\u001b[0m \u001b[0;34m=\u001b[0m \u001b[0;32mNone\u001b[0m\u001b[0;34m\u001b[0m\u001b[0;34m\u001b[0m\u001b[0m\n",
            "\u001b[0;31mKeyError\u001b[0m: 0"
          ]
        }
      ]
    },
    {
      "cell_type": "code",
      "source": [
        "lru.get(1)"
      ],
      "metadata": {
        "id": "khVTjjQv0_tH"
      },
      "execution_count": null,
      "outputs": []
    },
    {
      "cell_type": "code",
      "source": [
        "lru.get(3)"
      ],
      "metadata": {
        "id": "wcTV9NH11DqX"
      },
      "execution_count": null,
      "outputs": []
    },
    {
      "cell_type": "code",
      "source": [
        "lru.get(4)"
      ],
      "metadata": {
        "id": "HM4syYEq1Fw7"
      },
      "execution_count": null,
      "outputs": []
    }
  ]
}