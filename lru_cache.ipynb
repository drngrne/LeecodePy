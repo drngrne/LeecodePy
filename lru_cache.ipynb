{
  "nbformat": 4,
  "nbformat_minor": 0,
  "metadata": {
    "colab": {
      "provenance": [],
      "authorship_tag": "ABX9TyPHpmNp/fP7FIDYVa/BzW4E"
    },
    "kernelspec": {
      "name": "python3",
      "display_name": "Python 3"
    },
    "language_info": {
      "name": "python"
    }
  },
  "cells": [
    {
      "cell_type": "code",
      "source": [
        "class Node:\n",
        "    def __init__(self, key, value):\n",
        "        self.key, self.value = key, value\n",
        "        self.prev = self.next = None\n",
        "\n",
        "class LRUCache(object):\n",
        "    def __init__(self, capacity):\n",
        "        self.cache = {}\n",
        "        self.cap = capacity\n",
        "        self.dumL, self.dumR = Node(0,0), Node(0,0)\n",
        "        self.dumL.next = self.dumR\n",
        "        self.dumR.prev = self.dumL\n",
        "\n",
        "    def insert(self, node):\n",
        "        prev, next = self.dumR.prev, self.dumR\n",
        "        node.prev, node.next = prev, next\n",
        "        prev.next = next.prev = node\n",
        "\n",
        "    def remove(self, node):\n",
        "        prev, next = node.prev, node.next\n",
        "        prev.next, next.prev = next, prev\n",
        "        #node.next = node.prev = None      #optional\n",
        "\n",
        "\n",
        "    def get(self, key):\n",
        "        if key in self.cache:\n",
        "            node = self.cache[key]\n",
        "            self.remove(node)\n",
        "            self.insert(node)\n",
        "            return node.value\n",
        "        return -1\n",
        "\n",
        "\n",
        "    def put(self, key, value):\n",
        "        if key in self.cache:\n",
        "            self.remove(self.cache[key])\n",
        "        self.cache[key] = Node(key, value)\n",
        "        self.insert(self.cache[key])\n",
        "\n",
        "        if len(self.cache) > self.cap:\n",
        "            lru = self.dumL.next\n",
        "            self.remove(lru)\n",
        "            del self.cache[lru.key]\n",
        ""
      ],
      "metadata": {
        "id": "qF-uirzGT7nR"
      },
      "execution_count": 13,
      "outputs": []
    },
    {
      "cell_type": "code",
      "source": [
        "lruObj = LRUCache(3)"
      ],
      "metadata": {
        "id": "-l3a7ptQcZm0"
      },
      "execution_count": 14,
      "outputs": []
    },
    {
      "cell_type": "code",
      "source": [
        "lruObj.put(1,1)"
      ],
      "metadata": {
        "id": "d5ifr-BXBTTn"
      },
      "execution_count": 15,
      "outputs": []
    },
    {
      "cell_type": "code",
      "source": [
        "lruObj.put(2,2)"
      ],
      "metadata": {
        "id": "hzYQiSCIBXbQ"
      },
      "execution_count": 16,
      "outputs": []
    },
    {
      "cell_type": "code",
      "source": [
        "lruObj.put(3,3)"
      ],
      "metadata": {
        "id": "wEAy8RtgBcPx"
      },
      "execution_count": 17,
      "outputs": []
    },
    {
      "cell_type": "code",
      "source": [
        "print(lruObj.dumL.next.value)\n",
        "print(lruObj.dumL.next.next.value)\n",
        "print(lruObj.dumL.next.next.next.value)\n",
        "print(lruObj.dumL.next.next.next.next.value)"
      ],
      "metadata": {
        "colab": {
          "base_uri": "https://localhost:8080/"
        },
        "id": "a4xmt3lVBeOU",
        "outputId": "eabd21dc-d977-4101-866f-dc45a335fbd5"
      },
      "execution_count": 18,
      "outputs": [
        {
          "output_type": "stream",
          "name": "stdout",
          "text": [
            "1\n",
            "2\n",
            "3\n",
            "0\n"
          ]
        }
      ]
    },
    {
      "cell_type": "code",
      "source": [
        "lruObj.put(4,4)"
      ],
      "metadata": {
        "id": "L98znFO5B2L7"
      },
      "execution_count": 19,
      "outputs": []
    },
    {
      "cell_type": "code",
      "source": [
        "print(lruObj.dumL.next.value)\n",
        "print(lruObj.dumL.next.next.value)\n",
        "print(lruObj.dumL.next.next.next.value)\n",
        "print(lruObj.dumL.next.next.next.next.value)"
      ],
      "metadata": {
        "colab": {
          "base_uri": "https://localhost:8080/"
        },
        "id": "fRl3cX0ZCMy2",
        "outputId": "bfc67db1-3d4e-4ea4-f012-dbd4a64c9006"
      },
      "execution_count": 20,
      "outputs": [
        {
          "output_type": "stream",
          "name": "stdout",
          "text": [
            "2\n",
            "3\n",
            "4\n",
            "0\n"
          ]
        }
      ]
    }
  ]
}