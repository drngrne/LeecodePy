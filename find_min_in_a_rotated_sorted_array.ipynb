{
  "nbformat": 4,
  "nbformat_minor": 0,
  "metadata": {
    "colab": {
      "provenance": [],
      "authorship_tag": "ABX9TyOR3vwa1o5Peok278dbY83s"
    },
    "kernelspec": {
      "name": "python3",
      "display_name": "Python 3"
    },
    "language_info": {
      "name": "python"
    }
  },
  "cells": [
    {
      "cell_type": "code",
      "execution_count": 7,
      "metadata": {
        "id": "HQS8J9V2Lf_b"
      },
      "outputs": [],
      "source": [
        "class Solution(object):\n",
        "    def findMin(self, nums):\n",
        "        \"\"\"\n",
        "        :type nums: List[int]\n",
        "        :rtype: int\n",
        "        \"\"\"\n",
        "\n",
        "\n",
        "        l, r = 0, len(nums)-1\n",
        "        res = nums[0]\n",
        "\n",
        "        while l <= r:\n",
        "\n",
        "            if nums[l] <= nums[r]:\n",
        "                return min(res, nums[l])\n",
        "            else:\n",
        "                mid = (l+r)//2\n",
        "                if nums[mid] >= nums[0]:\n",
        "                    #res = min(res, nums[mid])\n",
        "                    #r = mid-1\n",
        "\n",
        "                    res = min(res, nums[mid])\n",
        "                    l = mid+1\n",
        "                else:\n",
        "                    #res = min(res, nums[mid])\n",
        "                    #l = mid+1\n",
        "\n",
        "                    res = min(res, nums[mid])\n",
        "                    r = mid-1\n",
        "\n",
        "        return res"
      ]
    }
  ]
}