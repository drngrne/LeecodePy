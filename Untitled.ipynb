{
  "nbformat": 4,
  "nbformat_minor": 0,
  "metadata": {
    "colab": {
      "provenance": [],
      "authorship_tag": "ABX9TyMQoujZChO0TFh/m32byRPq"
    },
    "kernelspec": {
      "name": "python3",
      "display_name": "Python 3"
    },
    "language_info": {
      "name": "python"
    }
  },
  "cells": [
    {
      "cell_type": "code",
      "execution_count": 3,
      "metadata": {
        "id": "6WzmTApxc5kR"
      },
      "outputs": [],
      "source": [
        "class Solution(object):\n",
        "    def dailyTemperatures(self, temperatures):\n",
        "        res = [0]*len(temperatures)\n",
        "        stack = [] # pair: [temp, index]\n",
        "\n",
        "        for index, temp in enumerate(temperatures):\n",
        "            while stack and temp > stack[-1][0]:\n",
        "                stackTemp, stackId = stack.pop()\n",
        "                res[stackId] = index - stackId\n",
        "\n",
        "            stack.append([temp, index])\n",
        "\n",
        "        return res\n",
        ""
      ]
    }
  ]
}