{
  "nbformat": 4,
  "nbformat_minor": 0,
  "metadata": {
    "colab": {
      "provenance": [],
      "authorship_tag": "ABX9TyMrY8u9qjtnwJeIZKprET1i"
    },
    "kernelspec": {
      "name": "python3",
      "display_name": "Python 3"
    },
    "language_info": {
      "name": "python"
    }
  },
  "cells": [
    {
      "cell_type": "code",
      "source": [
        "class Solution(object):\n",
        "    def search(self, nums, target):\n",
        "\n",
        "        l, r = 0, len(nums)-1\n",
        "\n",
        "        while l <= r:\n",
        "\n",
        "            mid = (l+r)//2\n",
        "\n",
        "            if nums[mid] > target:\n",
        "                if nums[l] > nums[mid]:\n",
        "                    r = mid - 1\n",
        "                else:\n",
        "                    if nums[r] < nums[mid]:\n",
        "                        if nums[r] >= target:\n",
        "                            l = mid + 1\n",
        "                        else:\n",
        "                            r = mid -1\n",
        "\n",
        "                    else:\n",
        "                        r = mid - 1\n",
        "\n",
        "\n",
        "\n",
        "            elif nums[mid] < target:\n",
        "                if nums[r] < nums [mid]:\n",
        "                    l = mid + 1\n",
        "\n",
        "                else:\n",
        "                    if nums[l] > nums[mid]:\n",
        "                        if nums[l] > target:\n",
        "                            l = mid + 1\n",
        "                        elif nums[l] < target:\n",
        "                            r = mid - 1\n",
        "                        else:\n",
        "                            return l\n",
        "\n",
        "                    else:\n",
        "                        l = mid + 1\n",
        "\n",
        "            else:\n",
        "                return mid\n",
        "\n",
        "        return -1\n",
        "\n",
        ""
      ],
      "metadata": {
        "id": "1ORCUc3z6cnl"
      },
      "execution_count": 45,
      "outputs": []
    },
    {
      "cell_type": "code",
      "source": [
        "solz = Solution()\n",
        "solz.search([5,1,3], 5)"
      ],
      "metadata": {
        "colab": {
          "base_uri": "https://localhost:8080/"
        },
        "id": "6ZQAsSfD8pyW",
        "outputId": "bcd0b8d7-1eda-4449-dfc0-44e42e15cb5c"
      },
      "execution_count": 46,
      "outputs": [
        {
          "output_type": "execute_result",
          "data": {
            "text/plain": [
              "0"
            ]
          },
          "metadata": {},
          "execution_count": 46
        }
      ]
    }
  ]
}