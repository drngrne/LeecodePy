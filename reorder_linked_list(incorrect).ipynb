{
  "nbformat": 4,
  "nbformat_minor": 0,
  "metadata": {
    "colab": {
      "provenance": [],
      "authorship_tag": "ABX9TyMwjyM2Vu83/Utl7jsNxnEm"
    },
    "kernelspec": {
      "name": "python3",
      "display_name": "Python 3"
    },
    "language_info": {
      "name": "python"
    }
  },
  "cells": [
    {
      "cell_type": "code",
      "execution_count": 47,
      "metadata": {
        "id": "ofnJqpiuJSF0"
      },
      "outputs": [],
      "source": [
        "# Definition for singly-linked list.\n",
        "class ListNode(object):\n",
        "    def __init__(self, val=0, next=None):\n",
        "        self.val = val\n",
        "        self.next = next\n",
        "\n",
        "import math\n",
        "class Solution(object):\n",
        "    def reorderList(self, head):\n",
        "        \"\"\"\n",
        "        :type head: Optional[ListNode]\n",
        "        :rtype: None Do not return anything, modify head in-place instead.\n",
        "        \"\"\"\n",
        "        currNode = head\n",
        "        nodArr = []\n",
        "        isOdd = False\n",
        "        while currNode.next:\n",
        "            nodArr.append(currNode.val)\n",
        "            currNode = currNode.next\n",
        "        nodArr.append(currNode.val)\n",
        "\n",
        "        llLen = len(nodArr)\n",
        "\n",
        "        if (llLen%2) == 0:\n",
        "            pass\n",
        "        else:\n",
        "            isOdd = True\n",
        "\n",
        "        llHalfLen = math.ceil(llLen/2)\n",
        "        leftHalf = []\n",
        "        rightHalf = []\n",
        "        reorderedList = []\n",
        "        i = 0\n",
        "\n",
        "        while i <= llHalfLen-1:\n",
        "            leftHalf.append(nodArr[i])\n",
        "            rightHalf.append(nodArr[::-1][i])\n",
        "            i += 1\n",
        "\n",
        "        if isOdd:\n",
        "            rightHalf.pop()\n",
        "        else:\n",
        "            pass\n",
        "\n",
        "        k = 0\n",
        "        while k <= len(rightHalf)-1:\n",
        "            reorderedList.append(leftHalf[k])\n",
        "            reorderedList.append(rightHalf[k])\n",
        "            k += 1\n",
        "\n",
        "        if isOdd:\n",
        "            reorderedList.append(leftHalf[-1])\n",
        "        else:\n",
        "            pass\n",
        "\n",
        "        newHead = ListNode()\n",
        "        currNode = newHead\n",
        "        j = 0\n",
        "\n",
        "        while j <= len(reorderedList)-1:\n",
        "            currNode.next = ListNode(reorderedList[j])\n",
        "            currNode = currNode.next\n",
        "            j += 1\n",
        "\n",
        "        return newHead.next\n"
      ]
    }
  ]
}