{
  "nbformat": 4,
  "nbformat_minor": 0,
  "metadata": {
    "colab": {
      "provenance": [],
      "authorship_tag": "ABX9TyNJxvoM28FxDy1le34FS9/T"
    },
    "kernelspec": {
      "name": "python3",
      "display_name": "Python 3"
    },
    "language_info": {
      "name": "python"
    }
  },
  "cells": [
    {
      "cell_type": "code",
      "execution_count": 1,
      "metadata": {
        "id": "0rYIUwfsHlXU"
      },
      "outputs": [],
      "source": [
        "class MinStack(object):\n",
        "\n",
        "    def __init__(self):\n",
        "        self.monoStack = []\n",
        "        self.eles = []\n",
        "\n",
        "\n",
        "    def push(self, val):\n",
        "        if len(self.eles) != 0:\n",
        "            self.eles.append(val)\n",
        "            currMin = self.monoStack[len(self.monoStack)-1]\n",
        "            if currMin < val:\n",
        "                self.monoStack.append(currMin)\n",
        "            else:\n",
        "                self.monoStack.append(val)\n",
        "        else:\n",
        "            self.eles.append(val)\n",
        "            self.monoStack.append(val)\n",
        "\n",
        "\n",
        "    def pop(self):\n",
        "        if len(self.eles) == 0:\n",
        "            pass\n",
        "        else:\n",
        "            self.eles.pop(len(self.eles)-1)\n",
        "            self.monoStack.pop(len(self.monoStack)-1)\n",
        "\n",
        "\n",
        "\n",
        "\n",
        "    def top(self):\n",
        "        if len(self.eles) == 0:\n",
        "            pass\n",
        "        else:\n",
        "            return self.eles[len(self.eles)-1]\n",
        "\n",
        "\n",
        "    def getMin(self):\n",
        "        if len(self.eles) == 0:\n",
        "            pass\n",
        "        else:\n",
        "            return self.monoStack[len(self.monoStack)-1]\n",
        "\n",
        "\n",
        "\n",
        "# Your MinStack object will be instantiated and called as such:\n",
        "# obj = MinStack()\n",
        "# obj.push(val)\n",
        "# obj.pop()\n",
        "# param_3 = obj.top()\n",
        "# param_4 = obj.getMin()"
      ]
    }
  ]
}