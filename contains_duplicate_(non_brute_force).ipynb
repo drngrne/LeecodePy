{
  "nbformat": 4,
  "nbformat_minor": 0,
  "metadata": {
    "colab": {
      "provenance": [],
      "authorship_tag": "ABX9TyNNHg6/YXqtnAEjFELTlMaX"
    },
    "kernelspec": {
      "name": "python3",
      "display_name": "Python 3"
    },
    "language_info": {
      "name": "python"
    }
  },
  "cells": [
    {
      "cell_type": "code",
      "execution_count": null,
      "metadata": {
        "id": "lOKQNLwHabMW"
      },
      "outputs": [],
      "source": [
        "class Solution(object):\n",
        "    def containsDuplicate(self, nums):\n",
        "        #nums.sort()\n",
        "        someSet = set(nums)\n",
        "        if len(someSet) != len(nums):\n",
        "            return True\n",
        "        else:\n",
        "            return False"
      ]
    },
    {
      "cell_type": "code",
      "source": [
        "class Solution(object):\n",
        "    def containsDuplicate(self, nums):\n",
        "        #nums.sort()\n",
        "        hm = {}\n",
        "\n",
        "        for idi, i in enumerate(nums):\n",
        "            if hm.get(i, 0) > 0:\n",
        "                return True\n",
        "            hm[i] = 1\n",
        "\n",
        "        return False"
      ],
      "metadata": {
        "id": "drCYFp-1NyI-"
      },
      "execution_count": null,
      "outputs": []
    }
  ]
}