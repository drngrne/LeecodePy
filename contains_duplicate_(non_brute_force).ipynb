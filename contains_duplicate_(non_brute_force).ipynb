{
  "nbformat": 4,
  "nbformat_minor": 0,
  "metadata": {
    "colab": {
      "provenance": [],
      "authorship_tag": "ABX9TyN8FzJImSKzHOp0STBnP9Pq"
    },
    "kernelspec": {
      "name": "python3",
      "display_name": "Python 3"
    },
    "language_info": {
      "name": "python"
    }
  },
  "cells": [
    {
      "cell_type": "code",
      "execution_count": 1,
      "metadata": {
        "id": "lOKQNLwHabMW"
      },
      "outputs": [],
      "source": [
        "class Solution(object):\n",
        "    def containsDuplicate(self, nums):\n",
        "        #nums.sort()\n",
        "        someSet = set(nums)\n",
        "        if len(someSet) != len(nums):\n",
        "            return True\n",
        "        else:\n",
        "            return False"
      ]
    }
  ]
}