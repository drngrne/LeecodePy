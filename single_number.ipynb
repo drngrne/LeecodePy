{
  "nbformat": 4,
  "nbformat_minor": 0,
  "metadata": {
    "colab": {
      "provenance": [],
      "authorship_tag": "ABX9TyNUSkXdbLo2rgz/sIsRIK9P"
    },
    "kernelspec": {
      "name": "python3",
      "display_name": "Python 3"
    },
    "language_info": {
      "name": "python"
    }
  },
  "cells": [
    {
      "cell_type": "code",
      "execution_count": 32,
      "metadata": {
        "id": "HC7836Q7rltN"
      },
      "outputs": [],
      "source": [
        "class Solution(object):\n",
        "    def singleNumber(self, nums):\n",
        "        \"\"\"\n",
        "        :type nums: List[int]\n",
        "        :rtype: int\n",
        "        \"\"\"\n",
        "        someArr = nums\n",
        "        if len(someArr) == 1:\n",
        "                return someArr[0]\n",
        "        someArr.sort()\n",
        "\n",
        "        for idx, i in enumerate(someArr):\n",
        "            if idx == 0:\n",
        "                if someArr[idx] == someArr[idx+1]:\n",
        "                    continue\n",
        "                else:\n",
        "                    return someArr[idx]\n",
        "            elif idx == len(someArr)-1:\n",
        "                if someArr[idx] == someArr[idx-1]:\n",
        "                    continue\n",
        "                else:\n",
        "                    return someArr[idx]\n",
        "            else:\n",
        "                if someArr[idx] == someArr[idx-1]:\n",
        "                    continue\n",
        "                elif someArr[idx] == someArr[idx+1]:\n",
        "                    continue\n",
        "                else:\n",
        "                    return someArr[idx]"
      ]
    },
    {
      "cell_type": "code",
      "source": [
        "soln1 = Solution()\n",
        "nums = [4,1,2,1,2]\n",
        "print(soln1.singleNumber(nums))"
      ],
      "metadata": {
        "colab": {
          "base_uri": "https://localhost:8080/"
        },
        "id": "6vCY7kCy6wVS",
        "outputId": "dbd79133-4a13-4970-d2c1-b9a99dadbb53"
      },
      "execution_count": 33,
      "outputs": [
        {
          "output_type": "stream",
          "name": "stdout",
          "text": [
            "4\n"
          ]
        }
      ]
    },
    {
      "cell_type": "code",
      "source": [],
      "metadata": {
        "id": "IonJJLonsH52"
      },
      "execution_count": null,
      "outputs": []
    }
  ]
}