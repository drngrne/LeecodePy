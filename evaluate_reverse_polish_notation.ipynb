{
  "nbformat": 4,
  "nbformat_minor": 0,
  "metadata": {
    "colab": {
      "provenance": [],
      "authorship_tag": "ABX9TyMqu6JABVjC+osGYRQhY06q"
    },
    "kernelspec": {
      "name": "python3",
      "display_name": "Python 3"
    },
    "language_info": {
      "name": "python"
    }
  },
  "cells": [
    {
      "cell_type": "code",
      "execution_count": 15,
      "metadata": {
        "id": "nu22NsqP5kuP"
      },
      "outputs": [],
      "source": [
        "class Solution(object):\n",
        "    def evalRPN(self, tokens):\n",
        "        operand = []\n",
        "\n",
        "        for i in tokens:\n",
        "            if i == \"/\" or i == \"*\" or i == \"-\" or i == \"+\":\n",
        "                match i:\n",
        "                    case \"/\":\n",
        "                        x = int(operand[len(operand)-2] / operand[len(operand)-1])\n",
        "                        operand.pop()\n",
        "                        operand.pop()\n",
        "                        operand.append(x)\n",
        "                    case \"*\":\n",
        "                        x = operand[len(operand)-2] * operand[len(operand)-1]\n",
        "                        operand.pop()\n",
        "                        operand.pop()\n",
        "                        operand.append(x)\n",
        "                    case \"-\":\n",
        "                        x = operand[len(operand)-2] - operand[len(operand)-1]\n",
        "                        operand.pop()\n",
        "                        operand.pop()\n",
        "                        operand.append(x)\n",
        "                    case \"+\":\n",
        "                        x = operand[len(operand)-2] + operand[len(operand)-1]\n",
        "                        operand.pop()\n",
        "                        operand.pop()\n",
        "                        operand.append(x)\n",
        "            else:\n",
        "                operand.append(int(i))\n",
        "\n",
        "        return operand[0]\n",
        "\n",
        ""
      ]
    }
  ]
}