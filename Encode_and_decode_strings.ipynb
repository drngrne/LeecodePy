{
  "nbformat": 4,
  "nbformat_minor": 0,
  "metadata": {
    "colab": {
      "provenance": [],
      "authorship_tag": "ABX9TyPPAPB6qYVa0jXk9um2z4eV"
    },
    "kernelspec": {
      "name": "python3",
      "display_name": "Python 3"
    },
    "language_info": {
      "name": "python"
    }
  },
  "cells": [
    {
      "cell_type": "code",
      "execution_count": 55,
      "metadata": {
        "id": "ryuE3Cf4B3Az"
      },
      "outputs": [],
      "source": [
        "class Solution:\n",
        "    def encodeS(self, strs):\n",
        "        encStr = ''\n",
        "        for i in strs:\n",
        "            leni = len(i)\n",
        "            encStr += str(leni)+'#'+i\n",
        "        return encStr\n",
        "\n",
        "    def decodeS(self, strs):\n",
        "        res, i = [], 0\n",
        "\n",
        "        while i < len(strs):\n",
        "            j = i\n",
        "            while strs[j] != \"#\":\n",
        "                j+=1\n",
        "            lens = int(strs[i:j])\n",
        "            res.append(strs[j+1: j+1+lens])\n",
        "            i = j+1+lens\n",
        "        return res"
      ]
    }
  ]
}