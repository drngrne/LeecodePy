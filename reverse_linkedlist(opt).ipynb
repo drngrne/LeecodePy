{
  "nbformat": 4,
  "nbformat_minor": 0,
  "metadata": {
    "colab": {
      "provenance": [],
      "authorship_tag": "ABX9TyOxDXHy0B+oddlWCNXgy2sm"
    },
    "kernelspec": {
      "name": "python3",
      "display_name": "Python 3"
    },
    "language_info": {
      "name": "python"
    }
  },
  "cells": [
    {
      "cell_type": "code",
      "execution_count": null,
      "metadata": {
        "id": "flsG07f0gl50"
      },
      "outputs": [],
      "source": [
        "# Definition for singly-linked list.\n",
        "class ListNode(object):\n",
        "    def __init__(self, val=0, next=None):\n",
        "        self.val = val\n",
        "        self.next = next\n",
        "\n",
        "class Solution(object):\n",
        "    def reverseList(self, head):\n",
        "        \"\"\"\n",
        "        :type head: Optional[ListNode]\n",
        "        :rtype: Optional[ListNode]\n",
        "        \"\"\"\n",
        "        if not head:\n",
        "            return None\n",
        "\n",
        "        dummy = ListNode()\n",
        "        dummy.next = head\n",
        "        prev = dummy\n",
        "        current = head\n",
        "\n",
        "        while current:\n",
        "            next = current.next\n",
        "            current.next = prev\n",
        "            prev = current\n",
        "            current = next\n",
        "\n",
        "        dummy.next = prev\n",
        "        head.next = None\n",
        "\n",
        "        return prev\n"
      ]
    },
    {
      "cell_type": "code",
      "source": [],
      "metadata": {
        "id": "MDQLdPSvne9R"
      },
      "execution_count": null,
      "outputs": []
    }
  ]
}