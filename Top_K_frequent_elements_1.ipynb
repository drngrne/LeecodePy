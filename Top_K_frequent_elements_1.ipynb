{
  "nbformat": 4,
  "nbformat_minor": 0,
  "metadata": {
    "colab": {
      "provenance": [],
      "authorship_tag": "ABX9TyOY1n9CxEBNyL7yCU2AlJTT"
    },
    "kernelspec": {
      "name": "python3",
      "display_name": "Python 3"
    },
    "language_info": {
      "name": "python"
    }
  },
  "cells": [
    {
      "cell_type": "code",
      "execution_count": 15,
      "metadata": {
        "id": "vdp7wuZqAWa2"
      },
      "outputs": [],
      "source": [
        "class Solution(object):\n",
        "    def topKFrequent(self, nums, k):\n",
        "        dict1 = {}\n",
        "        for i in nums:\n",
        "            if i in dict1.keys():\n",
        "                dict1[i] = dict1[i]+1\n",
        "            else:\n",
        "                dict1[i] = 1\n",
        "        nuarr = []\n",
        "        for j in range(k):\n",
        "            maxx = max(dict1, key=dict1.get)\n",
        "            #someval = dict1.keys()[dict1.values().index(maxx)]\n",
        "            nuarr.append(maxx)\n",
        "            del dict1[maxx]\n",
        "\n",
        "        return nuarr\n",
        "\n",
        ""
      ]
    }
  ]
}