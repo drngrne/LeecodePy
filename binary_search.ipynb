{
  "nbformat": 4,
  "nbformat_minor": 0,
  "metadata": {
    "colab": {
      "provenance": [],
      "authorship_tag": "ABX9TyNx9sLDO4ipZPsHFqQXBfYy"
    },
    "kernelspec": {
      "name": "python3",
      "display_name": "Python 3"
    },
    "language_info": {
      "name": "python"
    }
  },
  "cells": [
    {
      "cell_type": "code",
      "source": [
        "class Solution(object):\n",
        "\n",
        "    def search(self, nums, target):\n",
        "        l, r = 0, len(nums)-1\n",
        "\n",
        "        while l<=r:\n",
        "            m = (l+r) // 2\n",
        "\n",
        "            if nums[m] < target:\n",
        "                l = m+1\n",
        "            elif nums[m] > target:\n",
        "                r = m-1\n",
        "            else:\n",
        "                return m\n",
        "\n",
        "        return -1\n",
        ""
      ],
      "metadata": {
        "id": "SFrJZEHeCay1"
      },
      "execution_count": 3,
      "outputs": []
    }
  ]
}