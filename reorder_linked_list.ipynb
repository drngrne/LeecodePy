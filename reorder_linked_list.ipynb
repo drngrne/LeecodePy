{
  "nbformat": 4,
  "nbformat_minor": 0,
  "metadata": {
    "colab": {
      "provenance": [],
      "authorship_tag": "ABX9TyOpWovtCNk7VD/EhDYQOAgf"
    },
    "kernelspec": {
      "name": "python3",
      "display_name": "Python 3"
    },
    "language_info": {
      "name": "python"
    }
  },
  "cells": [
    {
      "cell_type": "code",
      "execution_count": 3,
      "metadata": {
        "id": "gUsNqpneS20m"
      },
      "outputs": [],
      "source": [
        "# Definition for singly-linked list.\n",
        "# class ListNode(object):\n",
        "#     def __init__(self, val=0, next=None):\n",
        "#         self.val = val\n",
        "#         self.next = next\n",
        "import math\n",
        "class Solution(object):\n",
        "    def reorderList(self, head):\n",
        "        \"\"\"\n",
        "        :type head: Optional[ListNode]\n",
        "        :rtype: None Do not return anything, modify head in-place instead.\n",
        "        \"\"\"\n",
        "        slow = head\n",
        "        fast = head.next\n",
        "\n",
        "        while fast and fast.next:\n",
        "            slow = slow.next\n",
        "            fast = fast.next.next\n",
        "\n",
        "        second = slow.next\n",
        "        prev = slow.next = None\n",
        "\n",
        "        while second:\n",
        "            tmp = second.next\n",
        "            second.next = prev\n",
        "            prev = second\n",
        "            second = tmp\n",
        "\n",
        "        first, second = head, prev\n",
        "        while second:\n",
        "            tmp1, tmp2 = first.next, second.next\n",
        "            first.next = second\n",
        "            second.next = tmp1\n",
        "            first = second.next\n",
        "            second = tmp2\n",
        "\n"
      ]
    },
    {
      "cell_type": "code",
      "source": [],
      "metadata": {
        "id": "PyROjHY059di"
      },
      "execution_count": null,
      "outputs": []
    }
  ]
}