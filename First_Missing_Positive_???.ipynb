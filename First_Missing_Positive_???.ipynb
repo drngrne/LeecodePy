{
  "nbformat": 4,
  "nbformat_minor": 0,
  "metadata": {
    "colab": {
      "provenance": [],
      "authorship_tag": "ABX9TyMZjMglvhuymZmZqECWVCjl"
    },
    "kernelspec": {
      "name": "python3",
      "display_name": "Python 3"
    },
    "language_info": {
      "name": "python"
    }
  },
  "cells": [
    {
      "cell_type": "code",
      "execution_count": 1,
      "metadata": {
        "id": "D4AaErFG1ZsZ"
      },
      "outputs": [],
      "source": [
        "class Solution(object):\n",
        "    def firstMissingPositive(self, nums):\n",
        "        numsSet = sorted(set(nums))\n",
        "        leastMis=1\n",
        "        for i in numsSet:\n",
        "            if(i > 0 and i <= len(nums)):\n",
        "                if(i<=leastMis):\n",
        "                    leastMis+=1\n",
        "            else:\n",
        "                pass\n",
        "        return leastMis\n"
      ]
    }
  ]
}