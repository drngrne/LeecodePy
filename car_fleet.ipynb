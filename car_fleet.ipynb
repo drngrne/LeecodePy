{
  "nbformat": 4,
  "nbformat_minor": 0,
  "metadata": {
    "colab": {
      "provenance": [],
      "authorship_tag": "ABX9TyPjCo5RDj9gD8TdlMgXmc6T"
    },
    "kernelspec": {
      "name": "python3",
      "display_name": "Python 3"
    },
    "language_info": {
      "name": "python"
    }
  },
  "cells": [
    {
      "cell_type": "code",
      "execution_count": 42,
      "metadata": {
        "id": "SgzmNk7v54cB"
      },
      "outputs": [],
      "source": [
        "class Solution(object):\n",
        "    def carFleet(self, target, position, speed):\n",
        "\n",
        "        n = len(position)\n",
        "        i = 0\n",
        "        cdict = {}\n",
        "\n",
        "        while i < n:\n",
        "            cdict[position[i]] = speed[i]\n",
        "            i+=1\n",
        "\n",
        "        myKeys = list(cdict.keys())\n",
        "        myKeys.sort()\n",
        "        sd = {i: cdict[i] for i in myKeys}\n",
        "\n",
        "        tarr = []\n",
        "\n",
        "        for i in sd:\n",
        "            tarr.append((target-i)/sd[i])\n",
        "\n",
        "        #print(tarr[::-1])\n",
        "\n",
        "        fleetcount = 1\n",
        "        currMax = tarr[n-1]\n",
        "\n",
        "        for i in tarr[::-1]:\n",
        "            if i <= currMax:\n",
        "                continue\n",
        "            else:\n",
        "                fleetcount += 1\n",
        "                currMax = i\n",
        "\n",
        "        return int(fleetcount)\n",
        "\n"
      ]
    },
    {
      "cell_type": "code",
      "source": [
        "sola = Solution()\n",
        "sola.carFleet(12, [10,8,0,5,3], [2,4,1,1,3])"
      ],
      "metadata": {
        "colab": {
          "base_uri": "https://localhost:8080/"
        },
        "id": "Gu_6Y6xe7aor",
        "outputId": "8dfeeb9e-46a1-4fa8-f1a8-12530c8bd9fa"
      },
      "execution_count": 43,
      "outputs": [
        {
          "output_type": "execute_result",
          "data": {
            "text/plain": [
              "3"
            ]
          },
          "metadata": {},
          "execution_count": 43
        }
      ]
    }
  ]
}