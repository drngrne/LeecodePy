{
  "nbformat": 4,
  "nbformat_minor": 0,
  "metadata": {
    "colab": {
      "provenance": [],
      "authorship_tag": "ABX9TyNiDH6Fb5kNMsMqtJCISW8Q"
    },
    "kernelspec": {
      "name": "python3",
      "display_name": "Python 3"
    },
    "language_info": {
      "name": "python"
    }
  },
  "cells": [
    {
      "cell_type": "code",
      "execution_count": 1,
      "metadata": {
        "id": "NHZjjALrjCUL"
      },
      "outputs": [],
      "source": [
        "import re\n",
        "class Solution(object):\n",
        "    def isPalindrome(self, s):\n",
        "        pattern = re.compile(r'[a-zA-Z0-9]+')\n",
        "\n",
        "        somel = pattern.findall(s)\n",
        "        matchez = ''\n",
        "        for match in somel:\n",
        "            matchez = matchez+match.lower()\n",
        "\n",
        "        if matchez == matchez[::-1]:\n",
        "            return True\n",
        "        return False"
      ]
    },
    {
      "cell_type": "code",
      "source": [
        "sola = Solution()\n"
      ],
      "metadata": {
        "id": "1EjWAPDMjEmg"
      },
      "execution_count": 2,
      "outputs": []
    },
    {
      "cell_type": "code",
      "source": [
        "sola.isPalindrome('A man, a plan, a canal: Panama')"
      ],
      "metadata": {
        "colab": {
          "base_uri": "https://localhost:8080/"
        },
        "id": "ZNfAA-AojK5A",
        "outputId": "ab89e5c0-45fe-4df2-c23b-719c01670bc7"
      },
      "execution_count": 3,
      "outputs": [
        {
          "output_type": "execute_result",
          "data": {
            "text/plain": [
              "True"
            ]
          },
          "metadata": {},
          "execution_count": 3
        }
      ]
    }
  ]
}