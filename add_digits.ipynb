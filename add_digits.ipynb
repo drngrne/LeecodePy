{
  "nbformat": 4,
  "nbformat_minor": 0,
  "metadata": {
    "colab": {
      "provenance": [],
      "authorship_tag": "ABX9TyPhKMB/QYhtJVyKdkNBccU5"
    },
    "kernelspec": {
      "name": "python3",
      "display_name": "Python 3"
    },
    "language_info": {
      "name": "python"
    }
  },
  "cells": [
    {
      "cell_type": "code",
      "execution_count": 13,
      "metadata": {
        "id": "KXQOh68-fDn1"
      },
      "outputs": [],
      "source": [
        "class Solution(object):\n",
        "    def addDigits(self, num):\n",
        "        if num <= 9:\n",
        "            return num\n",
        "        else:\n",
        "            numstr = str(num)\n",
        "            temp = 0\n",
        "            for i in numstr:\n",
        "                temp += int(i)\n",
        "            return self.addDigits(temp)\n",
        ""
      ]
    }
  ]
}