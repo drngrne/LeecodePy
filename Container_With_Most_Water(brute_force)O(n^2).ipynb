{
  "nbformat": 4,
  "nbformat_minor": 0,
  "metadata": {
    "colab": {
      "provenance": [],
      "authorship_tag": "ABX9TyNViMLEkBYr+FI6vZ4qYyuF"
    },
    "kernelspec": {
      "name": "python3",
      "display_name": "Python 3"
    },
    "language_info": {
      "name": "python"
    }
  },
  "cells": [
    {
      "cell_type": "code",
      "execution_count": 3,
      "metadata": {
        "id": "W3wnKIQX-Pzn"
      },
      "outputs": [],
      "source": [
        "class Solution(object):\n",
        "    def maxArea(self, height):\n",
        "\n",
        "        area = 0\n",
        "        for i, ht in enumerate(height):\n",
        "            for j, ht2 in enumerate(height[1:]):\n",
        "                area = max(area, min(ht,ht2)*((j+2)-(i+1)))\n",
        "        return area"
      ]
    },
    {
      "cell_type": "code",
      "source": [
        "sola = Solution()"
      ],
      "metadata": {
        "id": "4ZdgTSmmB-Nd"
      },
      "execution_count": 4,
      "outputs": []
    },
    {
      "cell_type": "code",
      "source": [
        "height = [1,1]\n",
        "print(sola.maxArea(height))"
      ],
      "metadata": {
        "colab": {
          "base_uri": "https://localhost:8080/"
        },
        "id": "7SSJrs2MCBZO",
        "outputId": "e23f664f-20f8-428f-aadc-dbc8acc18deb"
      },
      "execution_count": 6,
      "outputs": [
        {
          "output_type": "stream",
          "name": "stdout",
          "text": [
            "1\n"
          ]
        }
      ]
    }
  ]
}