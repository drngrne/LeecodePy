{
  "nbformat": 4,
  "nbformat_minor": 0,
  "metadata": {
    "colab": {
      "provenance": [],
      "authorship_tag": "ABX9TyPy2aK98jpL3j13/nbqZ7vW"
    },
    "kernelspec": {
      "name": "python3",
      "display_name": "Python 3"
    },
    "language_info": {
      "name": "python"
    }
  },
  "cells": [
    {
      "cell_type": "code",
      "execution_count": 25,
      "metadata": {
        "id": "kSROSZG9h6DY"
      },
      "outputs": [],
      "source": [
        "class Solution(object):\n",
        "    def twoSum(self, nums, target):\n",
        "        for idi, i in enumerate(nums[0:len(nums)-1]):\n",
        "            for idj, j in enumerate(nums[idi+1: ]):\n",
        "                if(nums[idi] + j == target):\n",
        "                    someArr = []\n",
        "                    someArr.append(idi)\n",
        "                    idxArr = [idele for idele, ele in enumerate(nums) if ele == j]\n",
        "                    for x in idxArr:\n",
        "                        if someArr[0] == x:\n",
        "                            continue\n",
        "                        else:\n",
        "                            someArr.append(x)\n",
        "                            break\n",
        "                    return someArr\n",
        "\n",
        "\n",
        ""
      ]
    },
    {
      "cell_type": "code",
      "source": [
        "soln = Solution()\n",
        "somearr = [1,2,3,4,5,6,7]\n",
        "print(soln.twoSum(somearr, 5))"
      ],
      "metadata": {
        "colab": {
          "base_uri": "https://localhost:8080/"
        },
        "id": "ViZJIVRai-RJ",
        "outputId": "c7681aac-f31e-4e79-af3a-51d19ee9df34"
      },
      "execution_count": 26,
      "outputs": [
        {
          "output_type": "stream",
          "name": "stdout",
          "text": [
            "[0, 3]\n"
          ]
        }
      ]
    }
  ]
}