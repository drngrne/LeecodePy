{
  "nbformat": 4,
  "nbformat_minor": 0,
  "metadata": {
    "colab": {
      "provenance": [],
      "authorship_tag": "ABX9TyO+pHbLfo6Kntf+SwW0Ii3T"
    },
    "kernelspec": {
      "name": "python3",
      "display_name": "Python 3"
    },
    "language_info": {
      "name": "python"
    }
  },
  "cells": [
    {
      "cell_type": "code",
      "execution_count": 5,
      "metadata": {
        "id": "ImrkqzQffzOM"
      },
      "outputs": [],
      "source": [
        "class Solution(object):\n",
        "    def isAnagram(self, s, t):\n",
        "        sHat = list(s)\n",
        "        tHat = list(t)\n",
        "\n",
        "        sHat.sort()\n",
        "        tHat.sort()\n",
        "\n",
        "        if sHat == tHat:\n",
        "            return True\n",
        "        else:\n",
        "            return False\n",
        ""
      ]
    },
    {
      "cell_type": "code",
      "source": [
        "soln = Solution()\n",
        "soln.isAnagram(\"anagram\", \"nagaram\")"
      ],
      "metadata": {
        "colab": {
          "base_uri": "https://localhost:8080/"
        },
        "id": "XOTqv1CMgTy1",
        "outputId": "b4629618-fd98-484e-dc94-87ce4402850f"
      },
      "execution_count": 6,
      "outputs": [
        {
          "output_type": "execute_result",
          "data": {
            "text/plain": [
              "True"
            ]
          },
          "metadata": {},
          "execution_count": 6
        }
      ]
    }
  ]
}