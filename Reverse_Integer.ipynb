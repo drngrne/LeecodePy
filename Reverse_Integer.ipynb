{
  "nbformat": 4,
  "nbformat_minor": 0,
  "metadata": {
    "colab": {
      "provenance": [],
      "authorship_tag": "ABX9TyPN/qjixDNB8ouyyWoACJim"
    },
    "kernelspec": {
      "name": "python3",
      "display_name": "Python 3"
    },
    "language_info": {
      "name": "python"
    }
  },
  "cells": [
    {
      "cell_type": "code",
      "execution_count": 8,
      "metadata": {
        "id": "kjhs4KBes_QF"
      },
      "outputs": [],
      "source": [
        "class Solution(object):\n",
        "    def reverse(self, x):\n",
        "        isNeg = False\n",
        "        if (x<0):\n",
        "            isNeg = True\n",
        "        x = str(abs(x))\n",
        "        y = ''\n",
        "        for i in reversed(x):\n",
        "            y += i\n",
        "\n",
        "        y = int(y)\n",
        "        if(isNeg):\n",
        "            y = y - y*2\n",
        "\n",
        "        if(y < -2147483648 or y > 2147483647):\n",
        "            return 0\n",
        "        else:\n",
        "            return y\n",
        ""
      ]
    }
  ]
}