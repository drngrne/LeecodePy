{
  "nbformat": 4,
  "nbformat_minor": 0,
  "metadata": {
    "colab": {
      "provenance": [],
      "authorship_tag": "ABX9TyPuGgN5IVLsBIV9aE1/cPJM"
    },
    "kernelspec": {
      "name": "python3",
      "display_name": "Python 3"
    },
    "language_info": {
      "name": "python"
    }
  },
  "cells": [
    {
      "cell_type": "code",
      "execution_count": 25,
      "metadata": {
        "id": "cFUTMjShT8RA"
      },
      "outputs": [],
      "source": [
        "import math\n",
        "\n",
        "class Solution(object):\n",
        "    def minEatingSpeed(self, piles, h):\n",
        "\n",
        "        maxS = max(piles)\n",
        "        l , r = 1, maxS\n",
        "        mid = (l+r)//2\n",
        "        mink = maxS\n",
        "        count = 0\n",
        "\n",
        "        while l <= r:\n",
        "            for i in piles:\n",
        "                count += math.ceil(i/mid)\n",
        "\n",
        "            if count <= h:\n",
        "                r = mid-1\n",
        "                mink = min(mink, mid)\n",
        "                mid = (l+r)//2\n",
        "                count = 0\n",
        "            else:\n",
        "                l = mid+1\n",
        "                mid = (l+r)//2\n",
        "                count = 0\n",
        "\n",
        "        return mink\n"
      ]
    },
    {
      "cell_type": "code",
      "source": [
        "sola = Solution()\n",
        "sola.minEatingSpeed([1,1,1,999999999], 10)"
      ],
      "metadata": {
        "colab": {
          "base_uri": "https://localhost:8080/"
        },
        "id": "8i3Duk9AzHtA",
        "outputId": "ad2377a6-753b-4796-ec84-d88773be6da6"
      },
      "execution_count": 22,
      "outputs": [
        {
          "output_type": "execute_result",
          "data": {
            "text/plain": [
              "142857143"
            ]
          },
          "metadata": {},
          "execution_count": 22
        }
      ]
    }
  ]
}