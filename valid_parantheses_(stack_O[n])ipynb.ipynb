{
  "nbformat": 4,
  "nbformat_minor": 0,
  "metadata": {
    "colab": {
      "provenance": [],
      "authorship_tag": "ABX9TyOmGmcKaGGIZXCWmSC5tfSq"
    },
    "kernelspec": {
      "name": "python3",
      "display_name": "Python 3"
    },
    "language_info": {
      "name": "python"
    }
  },
  "cells": [
    {
      "cell_type": "code",
      "execution_count": 39,
      "metadata": {
        "id": "OPqqLE7I8mPC"
      },
      "outputs": [],
      "source": [
        "class Solution(object):\n",
        "    def isValid(self, s):\n",
        "\n",
        "        lastOpenParan = []\n",
        "\n",
        "        for id, paran in enumerate(s):\n",
        "            match paran:\n",
        "                case '(':\n",
        "                    lastOpenParan.append(paran)\n",
        "                case '{':\n",
        "                    lastOpenParan.append(paran)\n",
        "                case '[':\n",
        "                    lastOpenParan.append(paran)\n",
        "                case ')':\n",
        "                    if id == 0 or len(lastOpenParan) == 0 or lastOpenParan[-1] != '(':\n",
        "                        return False\n",
        "                    lastOpenParan.pop()\n",
        "                case '}':\n",
        "                    if id == 0 or len(lastOpenParan) == 0 or lastOpenParan[-1] != '{':\n",
        "                        return False\n",
        "                    lastOpenParan.pop()\n",
        "                case ']':\n",
        "                    if id == 0 or len(lastOpenParan) == 0 or lastOpenParan[-1] != '[':\n",
        "                        return False\n",
        "                    lastOpenParan.pop()\n",
        "\n",
        "        if len(lastOpenParan) != 0:\n",
        "            return False\n",
        "        return True"
      ]
    },
    {
      "cell_type": "code",
      "source": [
        "sola = Solution()"
      ],
      "metadata": {
        "id": "Iy1mYEweF9gl"
      },
      "execution_count": 40,
      "outputs": []
    },
    {
      "cell_type": "code",
      "source": [
        "sola.isValid(\"[([]])\")"
      ],
      "metadata": {
        "colab": {
          "base_uri": "https://localhost:8080/"
        },
        "id": "rAy3iJ5XGAA3",
        "outputId": "462a87ee-3057-43cb-b020-73edb4e94231"
      },
      "execution_count": 41,
      "outputs": [
        {
          "output_type": "execute_result",
          "data": {
            "text/plain": [
              "False"
            ]
          },
          "metadata": {},
          "execution_count": 41
        }
      ]
    }
  ]
}