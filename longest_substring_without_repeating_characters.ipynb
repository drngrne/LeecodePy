{
  "nbformat": 4,
  "nbformat_minor": 0,
  "metadata": {
    "colab": {
      "provenance": [],
      "authorship_tag": "ABX9TyNcMlspC4qLt243G7Mm9uy3"
    },
    "kernelspec": {
      "name": "python3",
      "display_name": "Python 3"
    },
    "language_info": {
      "name": "python"
    }
  },
  "cells": [
    {
      "cell_type": "code",
      "execution_count": 1,
      "metadata": {
        "id": "PPk5Dzg1Nqn7"
      },
      "outputs": [],
      "source": [
        "class Solution(object):\n",
        "    def lengthOfLongestSubstring(self, s):\n",
        "        \"\"\"\n",
        "        :type s: str\n",
        "        :rtype: int\n",
        "        \"\"\"\n",
        "        charSet = set()\n",
        "        maxLen = 0\n",
        "        l = 0\n",
        "\n",
        "        for r in range(len(s)):\n",
        "            while r in charSet:\n",
        "                charSet.remove(s[l])\n",
        "                l += 1\n",
        "            charSet.add(s[r])\n",
        "            maxLen = max(maxLen, len(charSet))\n",
        "\n",
        "        return maxLen\n"
      ]
    },
    {
      "cell_type": "code",
      "source": [
        "sim = \"abcdefcghij\""
      ],
      "metadata": {
        "id": "02LMGjEVOYRP"
      },
      "execution_count": 2,
      "outputs": []
    },
    {
      "cell_type": "code",
      "source": [
        "sola = Solution()"
      ],
      "metadata": {
        "id": "L7pLtBTmRtfB"
      },
      "execution_count": 3,
      "outputs": []
    },
    {
      "cell_type": "code",
      "source": [
        "sola.lengthOfLongestSubstring(sim)"
      ],
      "metadata": {
        "colab": {
          "base_uri": "https://localhost:8080/"
        },
        "id": "scR9Q1qORxyw",
        "outputId": "75f505e0-7acc-486b-9119-5425cb30409d"
      },
      "execution_count": 4,
      "outputs": [
        {
          "output_type": "execute_result",
          "data": {
            "text/plain": [
              "10"
            ]
          },
          "metadata": {},
          "execution_count": 4
        }
      ]
    }
  ]
}