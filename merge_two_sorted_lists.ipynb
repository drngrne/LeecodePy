{
  "nbformat": 4,
  "nbformat_minor": 0,
  "metadata": {
    "colab": {
      "provenance": [],
      "authorship_tag": "ABX9TyNeayjzr9W9XKPElvYVEonX"
    },
    "kernelspec": {
      "name": "python3",
      "display_name": "Python 3"
    },
    "language_info": {
      "name": "python"
    }
  },
  "cells": [
    {
      "cell_type": "code",
      "execution_count": 3,
      "metadata": {
        "id": "WIMRPa126UYf"
      },
      "outputs": [],
      "source": [
        "# Definition for singly-linked list.\n",
        "class ListNode(object):\n",
        "    def __init__(self, val=0, next=None):\n",
        "        self.val = val\n",
        "        self.next = next\n",
        "\n",
        "\n",
        "\n",
        "\n",
        "\n",
        "class Solution(object):\n",
        "    def mergeTwoLists(self, list1, list2):\n",
        "        \"\"\"\n",
        "        :type list1: Optional[ListNode]\n",
        "        :type list2: Optional[ListNode]\n",
        "        :rtype: Optional[ListNode]\n",
        "        \"\"\"\n",
        "\n",
        "        coLL = ListNode()\n",
        "        currNode = coLL\n",
        "\n",
        "        while list1 and list2:\n",
        "            if list1.val < list2.val:\n",
        "                currNode.next = ListNode(list1.val)\n",
        "                currNode = currNode.next\n",
        "                list1 = list1.next\n",
        "            elif list1.val > list2.val:\n",
        "                currNode.next = ListNode(list2.val)\n",
        "                currNode = currNode.next\n",
        "                list2 = list2.next\n",
        "            else:\n",
        "                currNode.next = ListNode(list1.val)\n",
        "                currNode = currNode.next\n",
        "                list1 = list1.next\n",
        "                currNode.next = ListNode(list2.val)\n",
        "                currNode = currNode.next\n",
        "                list2 = list2.next\n",
        "\n",
        "        if list1:\n",
        "            currNode.next = list1\n",
        "        else:\n",
        "            currNode.next = list2\n",
        "\n",
        "        coLL = coLL.next\n",
        "\n",
        "        return coLL\n",
        "\n",
        "\n",
        ""
      ]
    }
  ]
}