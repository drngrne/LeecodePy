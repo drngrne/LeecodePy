{
  "nbformat": 4,
  "nbformat_minor": 0,
  "metadata": {
    "colab": {
      "provenance": [],
      "authorship_tag": "ABX9TyOguEz5wNW78QTyWYBrsrJJ"
    },
    "kernelspec": {
      "name": "python3",
      "display_name": "Python 3"
    },
    "language_info": {
      "name": "python"
    }
  },
  "cells": [
    {
      "cell_type": "code",
      "execution_count": null,
      "metadata": {
        "id": "hnjxcLf3EQ3w"
      },
      "outputs": [],
      "source": [
        "\n",
        "class ListNode(object):\n",
        "    def __init__(self, val=0, next=None):\n",
        "        self.val = val\n",
        "        self.next = next\n",
        "\n",
        "class Solution(object):\n",
        "    def mergeKLists(self, lists):\n",
        "\n",
        "        list1, list2, list3 = lists[0], lists[1], lists[2]\n",
        "\n",
        "        coLL = ListNode()\n",
        "        combo = self.combineLists(list1, list2, coLL)\n",
        "        coLL2 = ListNode()\n",
        "        combo2 = self.combineLists(list3, combo, coLL2)\n",
        "        return combo2\n",
        "\n",
        "    def combineLists(self, listA, listB, combo):\n",
        "        list1, list2 = listA, listB\n",
        "        currNode = combo\n",
        "\n",
        "        while list1 and list2:\n",
        "            if list1.val < list2.val:\n",
        "                currNode.next = ListNode(list1.val)\n",
        "                currNode = currNode.next\n",
        "                list1 = list1.next\n",
        "            elif list1.val > list2.val:\n",
        "                currNode.next = ListNode(list2.val)\n",
        "                currNode = currNode.next\n",
        "                list2 = list2.next\n",
        "            else:\n",
        "                currNode.next = ListNode(list1.val)\n",
        "                currNode = currNode.next\n",
        "                list1 = list1.next\n",
        "                currNode.next = ListNode(list2.val)\n",
        "                currNode = currNode.next\n",
        "                list2 = list2.next\n",
        "\n",
        "        if list1:\n",
        "            currNode.next = list1\n",
        "        else:\n",
        "            currNode.next = list2\n",
        "\n",
        "        return combo.next"
      ]
    },
    {
      "cell_type": "code",
      "source": [
        "ll1 = ListNode(6)\n",
        "ll1.next = ListNode(7)\n",
        "ll1.next.next = ListNode(8)"
      ],
      "metadata": {
        "id": "JUXU6JGiLucg"
      },
      "execution_count": null,
      "outputs": []
    },
    {
      "cell_type": "code",
      "source": [
        "ll2 = ListNode(1)\n",
        "ll2.next = ListNode(2)\n",
        "ll2.next.next = ListNode(3)"
      ],
      "metadata": {
        "id": "0netPUgIMCRr"
      },
      "execution_count": null,
      "outputs": []
    },
    {
      "cell_type": "code",
      "source": [
        "ll3 = ListNode(4)\n",
        "ll3.next = ListNode(5)\n",
        "ll3.next.next = ListNode(9)"
      ],
      "metadata": {
        "id": "xGBsecntMKIY"
      },
      "execution_count": null,
      "outputs": []
    },
    {
      "cell_type": "code",
      "source": [
        "arey = [ll1,ll2,ll3]"
      ],
      "metadata": {
        "id": "A4Z4MnGkMP_B"
      },
      "execution_count": null,
      "outputs": []
    },
    {
      "cell_type": "code",
      "source": [
        "sola = Solution()\n",
        "x = sola.mergeKLists(arey)"
      ],
      "metadata": {
        "id": "jK4yUhmuMXVQ"
      },
      "execution_count": null,
      "outputs": []
    },
    {
      "cell_type": "code",
      "source": [
        "while x:\n",
        "    print(x.val)\n",
        "    x = x.next"
      ],
      "metadata": {
        "colab": {
          "base_uri": "https://localhost:8080/"
        },
        "id": "ksFHnBadMiEt",
        "outputId": "c4a75d45-7ecc-4743-a8a9-d2df21b3d2a8"
      },
      "execution_count": null,
      "outputs": [
        {
          "output_type": "stream",
          "name": "stdout",
          "text": [
            "1\n",
            "2\n",
            "3\n",
            "4\n",
            "5\n",
            "6\n",
            "7\n",
            "8\n",
            "9\n"
          ]
        }
      ]
    }
  ]
}