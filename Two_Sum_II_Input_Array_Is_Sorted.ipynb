{
  "nbformat": 4,
  "nbformat_minor": 0,
  "metadata": {
    "colab": {
      "provenance": [],
      "authorship_tag": "ABX9TyNCMMVzuOIFeQTPB8YmDF/b"
    },
    "kernelspec": {
      "name": "python3",
      "display_name": "Python 3"
    },
    "language_info": {
      "name": "python"
    }
  },
  "cells": [
    {
      "cell_type": "markdown",
      "source": [],
      "metadata": {
        "id": "FvgoxT5wFTyt"
      }
    },
    {
      "cell_type": "markdown",
      "source": [
        "# 167. Two Sum II - Input Array Is Sorted\n",
        "\n",
        "Given a 1-indexed array of integers numbers that is already sorted in non-decreasing order, find two numbers such that they add up to a specific target number. Let these two numbers be numbers[index1] and numbers[index2] where 1 <= index1 < index2 <= numbers.length.\n",
        "\n",
        "Return the indices of the two numbers, index1 and index2, added by one as an integer array [index1, index2] of length 2.\n",
        "\n",
        "The tests are generated such that there is exactly one solution. You may not use the same element twice.\n",
        "\n",
        "Your solution must use only constant extra space.\n",
        "\n",
        "Example 1:\n",
        "\n",
        "Input: numbers = [2,7,11,15], target = 9\n",
        "Output: [1,2]\n",
        "Explanation: The sum of 2 and 7 is 9. Therefore, index1 = 1, index2 = 2. We return [1, 2].\n",
        "\n",
        "Example 2:\n",
        "\n",
        "Input: numbers = [2,3,4], target = 6\n",
        "Output: [1,3]\n",
        "Explanation: The sum of 2 and 4 is 6. Therefore index1 = 1, index2 = 3. We return [1, 3].\n",
        "\n",
        "Example 3:\n",
        "\n",
        "Input: numbers = [-1,0], target = -1\n",
        "Output: [1,2]\n",
        "Explanation: The sum of -1 and 0 is -1. Therefore index1 = 1, index2 = 2. We return [1, 2].\n",
        "\n",
        "\n",
        "Constraints:\n",
        "\n",
        "    2 <= numbers.length <= 3 * 104\n",
        "    -1000 <= numbers[i] <= 1000\n",
        "    numbers is sorted in non-decreasing order.\n",
        "    -1000 <= target <= 1000\n",
        "    The tests are generated such that there is exactly one solution.\n",
        "\n"
      ],
      "metadata": {
        "id": "dYf2zzXZE__6"
      }
    },
    {
      "cell_type": "code",
      "execution_count": 7,
      "metadata": {
        "id": "KBoyiD91E2st"
      },
      "outputs": [],
      "source": [
        "class Solution(object):\n",
        "    def twoSum(self, numbers, target):\n",
        "\n",
        "        lpt = 0\n",
        "        rpt = len(numbers)-1\n",
        "\n",
        "        while lpt < rpt:\n",
        "            if (numbers[lpt]+numbers[rpt]) == target:\n",
        "                return [lpt+1, rpt+1]\n",
        "            elif (numbers[lpt]+numbers[rpt]) < target:\n",
        "                lpt += 1\n",
        "            elif (numbers[lpt]+numbers[rpt]) > target:\n",
        "                rpt -=1"
      ]
    },
    {
      "cell_type": "markdown",
      "source": [],
      "metadata": {
        "id": "3G3egVF6sO8R"
      }
    }
  ]
}