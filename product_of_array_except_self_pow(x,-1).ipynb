{
  "nbformat": 4,
  "nbformat_minor": 0,
  "metadata": {
    "colab": {
      "provenance": [],
      "authorship_tag": "ABX9TyM/4c1yMiWQmfEsFlO5KOe2"
    },
    "kernelspec": {
      "name": "python3",
      "display_name": "Python 3"
    },
    "language_info": {
      "name": "python"
    }
  },
  "cells": [
    {
      "cell_type": "code",
      "execution_count": 40,
      "metadata": {
        "id": "XSlchYh43YJv"
      },
      "outputs": [],
      "source": [
        "class Solution(object):\n",
        "    def productExceptSelf(self, nums):\n",
        "        numsLen = len(nums)\n",
        "        prodArr = []\n",
        "        allProd = 1\n",
        "\n",
        "        if nums.count(0) >=2:\n",
        "            prodArr = [0] * numsLen\n",
        "            return prodArr\n",
        "        elif nums.count(0) == 1:\n",
        "            prodArr = [0] * numsLen\n",
        "            pos = nums.index(0)\n",
        "            i = 0\n",
        "            while i < numsLen:\n",
        "                if i == pos:\n",
        "                    i += 1\n",
        "                    continue\n",
        "                allProd *= nums[i]\n",
        "                i += 1\n",
        "            prodArr[pos] = allProd\n",
        "            return prodArr\n",
        "\n",
        "        for j in nums:\n",
        "            allProd *= j\n",
        "\n",
        "        for idk, k in enumerate(nums):\n",
        "            #prodArr[idk] = allProd*pow(k, -1)\n",
        "            prodArr.append(int(allProd*pow(k, -1)))\n",
        "        return prodArr"
      ]
    },
    {
      "cell_type": "code",
      "source": [
        "sol1 = Solution()\n",
        "print(sol1.productExceptSelf([1,2,3,4,0]))"
      ],
      "metadata": {
        "colab": {
          "base_uri": "https://localhost:8080/"
        },
        "id": "4qjtz9k1mS6Q",
        "outputId": "d63a3ab3-bafb-4b1a-a077-84c24eafb05e"
      },
      "execution_count": 41,
      "outputs": [
        {
          "output_type": "stream",
          "name": "stdout",
          "text": [
            "[0, 0, 0, 0, 24]\n"
          ]
        }
      ]
    }
  ]
}