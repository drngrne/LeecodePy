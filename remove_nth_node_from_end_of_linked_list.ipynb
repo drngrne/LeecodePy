{
  "nbformat": 4,
  "nbformat_minor": 0,
  "metadata": {
    "colab": {
      "provenance": [],
      "authorship_tag": "ABX9TyMfJUpqaX8RvCt2GymVSzw7"
    },
    "kernelspec": {
      "name": "python3",
      "display_name": "Python 3"
    },
    "language_info": {
      "name": "python"
    }
  },
  "cells": [
    {
      "cell_type": "code",
      "execution_count": 7,
      "metadata": {
        "id": "2v0e01H6m2_O"
      },
      "outputs": [],
      "source": [
        "# Definition for singly-linked list.\n",
        "class ListNode(object):\n",
        "    def __init__(self, val=0, next=None):\n",
        "        self.val = val\n",
        "        self.next = next\n",
        "\n",
        "class Solution(object):\n",
        "    def removeNthFromEnd(self, head, n):\n",
        "\n",
        "        dummyNode = ListNode(0, head)\n",
        "        l = dummyNode\n",
        "        r = dummyNode.next\n",
        "\n",
        "        while n > 0:\n",
        "            r = r.next\n",
        "            n -= 1\n",
        "\n",
        "        while r:\n",
        "            r = r.next\n",
        "            l = l.next\n",
        "\n",
        "        l.next = l.next.next\n",
        "\n",
        "        return dummyNode.next"
      ]
    }
  ]
}