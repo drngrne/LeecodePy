{
  "nbformat": 4,
  "nbformat_minor": 0,
  "metadata": {
    "colab": {
      "provenance": [],
      "authorship_tag": "ABX9TyPdVNOtjsgQcwzXBT3CF96d"
    },
    "kernelspec": {
      "name": "python3",
      "display_name": "Python 3"
    },
    "language_info": {
      "name": "python"
    }
  },
  "cells": [
    {
      "cell_type": "code",
      "execution_count": 31,
      "metadata": {
        "id": "8uaik57soxLN"
      },
      "outputs": [],
      "source": [
        "class Solution(object):\n",
        "    def largestRectangleArea(self, heights):\n",
        "\n",
        "        maxArea = 0\n",
        "        tempId = 0\n",
        "        monoStack = []\n",
        "        for id, h in enumerate(heights):\n",
        "            if monoStack:\n",
        "                if monoStack[len(monoStack)-1][0] > h:\n",
        "                    while monoStack and monoStack[len(monoStack)-1][0] > h:\n",
        "                        maxArea = max(maxArea, (monoStack[len(monoStack)-1][0])*(id-monoStack[len(monoStack)-1][1]))\n",
        "                        tempId = monoStack.pop()[1]\n",
        "                    monoStack.append((h, tempId))\n",
        "                else:\n",
        "                    monoStack.append((h, id))\n",
        "\n",
        "            else:\n",
        "                monoStack.append((h, id))\n",
        "\n",
        "\n",
        "        if monoStack: #[(1,0), (3,4), (7,5)]\n",
        "            while monoStack:\n",
        "                h, id = monoStack.pop()\n",
        "                maxArea = max(maxArea, h*(len(heights)-id))\n",
        "\n",
        "\n",
        "        return maxArea\n",
        ""
      ]
    },
    {
      "cell_type": "code",
      "source": [
        "sola = Solution()\n",
        "sola.largestRectangleArea([3, 3, 3, 3, 3])"
      ],
      "metadata": {
        "colab": {
          "base_uri": "https://localhost:8080/"
        },
        "id": "qWgS-TSoA0al",
        "outputId": "29b09c53-adf4-43c9-df52-cc2a1ffb5083"
      },
      "execution_count": 36,
      "outputs": [
        {
          "output_type": "execute_result",
          "data": {
            "text/plain": [
              "15"
            ]
          },
          "metadata": {},
          "execution_count": 36
        }
      ]
    }
  ]
}