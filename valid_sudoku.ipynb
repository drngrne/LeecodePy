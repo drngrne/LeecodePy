{
  "nbformat": 4,
  "nbformat_minor": 0,
  "metadata": {
    "colab": {
      "provenance": [],
      "authorship_tag": "ABX9TyPUR4dIxA8bKRHuewnYqv2k"
    },
    "kernelspec": {
      "name": "python3",
      "display_name": "Python 3"
    },
    "language_info": {
      "name": "python"
    }
  },
  "cells": [
    {
      "cell_type": "code",
      "execution_count": 8,
      "metadata": {
        "id": "gY7yYZRY9qqK"
      },
      "outputs": [],
      "source": [
        "import collections\n",
        "class Solution(object):\n",
        "    def isValidSudoku(self, board):\n",
        "\n",
        "        cols = collections.defaultdict(set)\n",
        "        rows = collections.defaultdict(set)\n",
        "        sqrs = collections.defaultdict(set)\n",
        "\n",
        "        for r in range(9):\n",
        "            for c in range(9):\n",
        "\n",
        "                if board[r][c] == '.':\n",
        "                    continue\n",
        "\n",
        "                if (board[r][c] in rows[r] or\n",
        "                    board[r][c] in cols[c] or\n",
        "                    board[r][c] in sqrs[(r//3, c//3)]):\n",
        "                    return False\n",
        "\n",
        "                cols[c].add(board[r][c])\n",
        "                rows[r].add(board[r][c])\n",
        "                sqrs[[(r//3, c//3)]].add(board[r][c])\n",
        "\n",
        "        return True\n",
        ""
      ]
    }
  ]
}