{
  "nbformat": 4,
  "nbformat_minor": 0,
  "metadata": {
    "colab": {
      "provenance": [],
      "authorship_tag": "ABX9TyMlRfeVal1wbhztsWaaIyZ3"
    },
    "kernelspec": {
      "name": "python3",
      "display_name": "Python 3"
    },
    "language_info": {
      "name": "python"
    }
  },
  "cells": [
    {
      "cell_type": "code",
      "execution_count": 40,
      "metadata": {
        "id": "iIDaU0X4Ewum"
      },
      "outputs": [],
      "source": [
        "# Definition for a Node.\n",
        "class Node:\n",
        "    def __init__(self, x, next=None, random=None):\n",
        "        self.val = int(x)\n",
        "        self.next = next\n",
        "        self.random = random\n",
        "\n",
        "class Solution(object):\n",
        "    def copyRandomList(self, head):\n",
        "        d = {None:None}\n",
        "\n",
        "        currNode = head\n",
        "        while currNode:\n",
        "            d[currNode] = Node(currNode.val)\n",
        "            currNode = currNode.next\n",
        "\n",
        "        currNode = head\n",
        "        while currNode:\n",
        "            copy = d[currNode]\n",
        "            copy.next = d[currNode.next]\n",
        "            copy.random = d[currNode.random]\n",
        "            currNode = currNode.next\n",
        "\n",
        "        return d[head]"
      ]
    }
  ]
}