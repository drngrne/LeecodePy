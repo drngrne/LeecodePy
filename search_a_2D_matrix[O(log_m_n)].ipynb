{
  "nbformat": 4,
  "nbformat_minor": 0,
  "metadata": {
    "colab": {
      "provenance": [],
      "authorship_tag": "ABX9TyOmgm9ap+MDuMDI5157lqSp"
    },
    "kernelspec": {
      "name": "python3",
      "display_name": "Python 3"
    },
    "language_info": {
      "name": "python"
    }
  },
  "cells": [
    {
      "cell_type": "code",
      "execution_count": 9,
      "metadata": {
        "id": "2Rcy4hIJT8t3"
      },
      "outputs": [],
      "source": [
        "class Solution(object):\n",
        "    def searchMatrix(self, matrix, target):\n",
        "\n",
        "        for j in matrix:\n",
        "            l, r = 0, len(j)-1\n",
        "\n",
        "            while l<=r:\n",
        "                m = (l+r) // 2\n",
        "                if j[m] < target:\n",
        "                    l = m+1\n",
        "                elif j[m] > target:\n",
        "                    r = m-1\n",
        "                else:\n",
        "                    return True\n",
        "\n",
        "        return False\n",
        ""
      ]
    },
    {
      "cell_type": "code",
      "source": [
        "sola = Solution()"
      ],
      "metadata": {
        "id": "uajg7J38Wlnb"
      },
      "execution_count": 7,
      "outputs": []
    },
    {
      "cell_type": "code",
      "source": [
        "sola.searchMatrix([[1,3,5,7],[10,11,16,20],[23,30,34,60]], 13)"
      ],
      "metadata": {
        "colab": {
          "base_uri": "https://localhost:8080/"
        },
        "id": "UBINJPbuWoGy",
        "outputId": "66a3b230-6279-4009-b7e2-c0e0bad679a2"
      },
      "execution_count": 8,
      "outputs": [
        {
          "output_type": "execute_result",
          "data": {
            "text/plain": [
              "False"
            ]
          },
          "metadata": {},
          "execution_count": 8
        }
      ]
    }
  ]
}