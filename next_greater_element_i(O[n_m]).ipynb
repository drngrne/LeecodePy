{
  "nbformat": 4,
  "nbformat_minor": 0,
  "metadata": {
    "colab": {
      "provenance": [],
      "authorship_tag": "ABX9TyNdWzVxzSE4k893kFmHnbcN"
    },
    "kernelspec": {
      "name": "python3",
      "display_name": "Python 3"
    },
    "language_info": {
      "name": "python"
    }
  },
  "cells": [
    {
      "cell_type": "code",
      "execution_count": 3,
      "metadata": {
        "id": "ATj6gBdZ9D-v"
      },
      "outputs": [],
      "source": [
        "class Solution(object):\n",
        "    def nextGreaterElement(self, nums1, nums2):\n",
        "        othArr = []\n",
        "        for idx, i in enumerate(nums1):\n",
        "            idy = nums2.index(i)\n",
        "\n",
        "            for j in nums2[idy: ]:\n",
        "\n",
        "                if j>i:\n",
        "                    othArr.append(j)\n",
        "                    break\n",
        "\n",
        "            if len(othArr) == idx+1:\n",
        "                continue\n",
        "            othArr.append(-1)\n",
        "\n",
        "        return othArr\n",
        ""
      ]
    },
    {
      "cell_type": "code",
      "source": [
        "sola = Solution()"
      ],
      "metadata": {
        "id": "JNqifLKn_yxN"
      },
      "execution_count": 4,
      "outputs": []
    },
    {
      "cell_type": "code",
      "source": [
        "sola.nextGreaterElement([4,1,2], [1,3,4,2])"
      ],
      "metadata": {
        "colab": {
          "base_uri": "https://localhost:8080/"
        },
        "id": "gndAkUieAZrz",
        "outputId": "d2f62653-38f6-4f3a-bb9f-40baee1c78bc"
      },
      "execution_count": 5,
      "outputs": [
        {
          "output_type": "execute_result",
          "data": {
            "text/plain": [
              "[-1, 3, -1]"
            ]
          },
          "metadata": {},
          "execution_count": 5
        }
      ]
    }
  ]
}