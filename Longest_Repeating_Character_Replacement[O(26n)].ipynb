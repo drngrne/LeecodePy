{
  "nbformat": 4,
  "nbformat_minor": 0,
  "metadata": {
    "colab": {
      "provenance": [],
      "authorship_tag": "ABX9TyOn2Wi2khT0zarue6KCkt7N"
    },
    "kernelspec": {
      "name": "python3",
      "display_name": "Python 3"
    },
    "language_info": {
      "name": "python"
    }
  },
  "cells": [
    {
      "cell_type": "code",
      "execution_count": 5,
      "metadata": {
        "id": "a0VO4WFrxaAW"
      },
      "outputs": [],
      "source": [
        "class Solution(object):\n",
        "    def characterReplacement(self, s, k):\n",
        "        \"\"\"\n",
        "        :type s: str\n",
        "        :type k: int\n",
        "        :rtype: int\n",
        "        \"\"\"\n",
        "        hm = {}\n",
        "        res = 0\n",
        "\n",
        "        l = 0\n",
        "\n",
        "        for r in range(len(s)):\n",
        "            hm[s[r]] = hm.get(s[r], 0) + 1\n",
        "\n",
        "            while (r-l + 1) - max(hm.values()) > k:\n",
        "                hm[s[l]] -= 1\n",
        "                l += 1\n",
        "\n",
        "            res = max(res, r-l + 1)\n",
        "\n",
        "        return res"
      ]
    }
  ]
}