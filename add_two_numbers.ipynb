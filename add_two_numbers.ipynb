{
  "nbformat": 4,
  "nbformat_minor": 0,
  "metadata": {
    "colab": {
      "provenance": [],
      "authorship_tag": "ABX9TyOugcftQ0JM6KHEDWcm2dOY"
    },
    "kernelspec": {
      "name": "python3",
      "display_name": "Python 3"
    },
    "language_info": {
      "name": "python"
    }
  },
  "cells": [
    {
      "cell_type": "code",
      "execution_count": 32,
      "metadata": {
        "id": "E06RbohNmVZ5"
      },
      "outputs": [],
      "source": [
        "# Definition for singly-linked list.\n",
        "class ListNode(object):\n",
        "    def __init__(self, val=0, next=None):\n",
        "        self.val = val\n",
        "        self.next = next\n",
        "\n",
        "class Solution(object):\n",
        "    def addTwoNumbers(self, l1, l2):\n",
        "        \"\"\"\n",
        "        :type l1: Optional[ListNode]\n",
        "        :type l2: Optional[ListNode]\n",
        "        :rtype: Optional[ListNode]\n",
        "        \"\"\"\n",
        "        str1 = ''\n",
        "        str2 = ''\n",
        "        currNode = l1\n",
        "        while currNode:\n",
        "            str1 += str(currNode.val)\n",
        "            currNode = currNode.next\n",
        "\n",
        "        currNode = l2\n",
        "        while currNode:\n",
        "            str2 += str(currNode.val)\n",
        "            currNode = currNode.next\n",
        "\n",
        "        str1 = str1[::-1]\n",
        "        str2 = str2[::-1]\n",
        "\n",
        "        tot = int(str1)+int(str2)\n",
        "        totstr = str(tot)\n",
        "        revtotstr = totstr[::-1]\n",
        "\n",
        "        head2 = ListNode(int(revtotstr[0]))\n",
        "        currNode = head2\n",
        "        id = 1\n",
        "        while id < len(revtotstr):\n",
        "            currNode.next = ListNode(int(revtotstr[id]))\n",
        "            currNode = currNode.next\n",
        "            id += 1\n",
        "\n",
        "        return head2"
      ]
    },
    {
      "cell_type": "code",
      "source": [
        "head5 = ListNode(2)\n",
        "head5.next = ListNode(4)\n",
        "head5.next.next = ListNode(3)\n",
        "\n",
        "head6 = ListNode(5)\n",
        "head6.next = ListNode(6)\n",
        "head6.next.next = ListNode(4)"
      ],
      "metadata": {
        "id": "nsl5xmI6upYA"
      },
      "execution_count": 33,
      "outputs": []
    },
    {
      "cell_type": "code",
      "source": [
        "sola = Solution()\n",
        "h = sola.addTwoNumbers(head5, head6)"
      ],
      "metadata": {
        "id": "Tip-Fn7j1dsC"
      },
      "execution_count": 34,
      "outputs": []
    },
    {
      "cell_type": "code",
      "source": [
        "print(h.val, h.next.val, h.next.next.val)"
      ],
      "metadata": {
        "colab": {
          "base_uri": "https://localhost:8080/"
        },
        "id": "xCtNFCoM17oi",
        "outputId": "fe8da19c-cc97-4a58-f2c2-73ef33a30ad7"
      },
      "execution_count": 35,
      "outputs": [
        {
          "output_type": "stream",
          "name": "stdout",
          "text": [
            "7 0 8\n"
          ]
        }
      ]
    }
  ]
}