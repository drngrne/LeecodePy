{
  "nbformat": 4,
  "nbformat_minor": 0,
  "metadata": {
    "colab": {
      "provenance": []
    },
    "kernelspec": {
      "name": "python3",
      "display_name": "Python 3"
    },
    "language_info": {
      "name": "python"
    }
  },
  "cells": [
    {
      "cell_type": "code",
      "execution_count": 6,
      "metadata": {
        "id": "_4jSbyvRCv5V"
      },
      "outputs": [],
      "source": [
        "class Solution:\n",
        "    def strStr(self, haystack: str, needle: str) -> int:\n",
        "        haystacker = haystack\n",
        "        needler = needle\n",
        "        index = -1\n",
        "\n",
        "        if needler in haystacker:\n",
        "            index = haystacker.find(needler)\n",
        "        else:\n",
        "            pass\n",
        "\n",
        "        return index\n"
      ]
    }
  ]
}