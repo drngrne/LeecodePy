{
  "nbformat": 4,
  "nbformat_minor": 0,
  "metadata": {
    "colab": {
      "provenance": [],
      "authorship_tag": "ABX9TyMzoHMDQHqthUDU84khy+tJ"
    },
    "kernelspec": {
      "name": "python3",
      "display_name": "Python 3"
    },
    "language_info": {
      "name": "python"
    }
  },
  "cells": [
    {
      "cell_type": "code",
      "execution_count": 1,
      "metadata": {
        "id": "e7B2JRQjxMSk"
      },
      "outputs": [],
      "source": [
        "class TimeMap(object):\n",
        "\n",
        "    def __init__(self):\n",
        "        self.timemapdict = {}\n",
        "\n",
        "\n",
        "    def set(self, key, value, timestamp):\n",
        "        \"\"\"\n",
        "        :type key: str\n",
        "        :type value: str\n",
        "        :type timestamp: int\n",
        "        :rtype: None\n",
        "        \"\"\"\n",
        "        self.timemapdict[key] = self.timemapdict.get(key, []) + [[value, timestamp]]\n",
        "\n",
        "\n",
        "\n",
        "\n",
        "    def get(self, key, timestamp):\n",
        "        \"\"\"\n",
        "        :type key: str\n",
        "        :type timestamp: int\n",
        "        :rtype: str\n",
        "        \"\"\"\n",
        "\n",
        "        if key in self.timemapdict:\n",
        "            l, r = 0, len(self.timemapdict[key])-1\n",
        "            mid = (l+r)//2\n",
        "\n",
        "            while l <= r:\n",
        "\n",
        "                if self.timemapdict[key][mid][1] < timestamp:\n",
        "                    l = mid+1\n",
        "                    mid = (l+r)//2\n",
        "                elif self.timemapdict[key][mid][1] > timestamp:\n",
        "                    r = mid-1\n",
        "                    mid = (l+r)//2\n",
        "                else:\n",
        "                    return self.timemapdict[key][mid][0]\n",
        "\n",
        "            if self.timemapdict[key][mid][1] < timestamp:\n",
        "                return self.timemapdict[key][mid][0]\n",
        "            else:\n",
        "                if mid >= 1:\n",
        "                    return self.timemapdict[key][mid-1][0]\n",
        "                else:\n",
        "                    return \"\"\n",
        "\n",
        "\n",
        "        else:\n",
        "            return \"\"\n",
        "\n",
        "\n",
        "\n",
        "# Your TimeMap object will be instantiated and called as such:\n",
        "# obj = TimeMap()\n",
        "# obj.set(key,value,timestamp)\n",
        "# param_2 = obj.get(key,timestamp)"
      ]
    },
    {
      "cell_type": "code",
      "source": [
        "timemap1 = TimeMap()\n",
        "timemap1.set(\"foo1\", \"bar1\", 1)\n",
        "timemap1.set(\"foo1\", \"bar9\", 2)\n",
        "timemap1.set(\"foo1\", \"bar0\", 7)\n",
        "timemap1.set(\"foo2\", \"bar2\", 2)\n",
        "timemap1.set(\"foo3\", \"bar3\", 3)\n",
        "\n",
        "timemap1.timemapdict"
      ],
      "metadata": {
        "colab": {
          "base_uri": "https://localhost:8080/"
        },
        "id": "jwAiMZngRtFL",
        "outputId": "0e715b44-9713-4d5e-bc98-88b7c454cdfc"
      },
      "execution_count": 5,
      "outputs": [
        {
          "output_type": "execute_result",
          "data": {
            "text/plain": [
              "{'foo1': [['bar1', 1], ['bar9', 2], ['bar0', 7]],\n",
              " 'foo2': [['bar2', 2]],\n",
              " 'foo3': [['bar3', 3]]}"
            ]
          },
          "metadata": {},
          "execution_count": 5
        }
      ]
    },
    {
      "cell_type": "code",
      "source": [
        "timemap1.get('foo1', 5)"
      ],
      "metadata": {
        "colab": {
          "base_uri": "https://localhost:8080/",
          "height": 55
        },
        "id": "XYXXNkj_T7d-",
        "outputId": "be097031-24c3-46a3-90d1-586cb6a20959"
      },
      "execution_count": 9,
      "outputs": [
        {
          "output_type": "execute_result",
          "data": {
            "text/plain": [
              "'bar9'"
            ],
            "application/vnd.google.colaboratory.intrinsic+json": {
              "type": "string"
            }
          },
          "metadata": {},
          "execution_count": 9
        }
      ]
    }
  ]
}