{
  "nbformat": 4,
  "nbformat_minor": 0,
  "metadata": {
    "colab": {
      "provenance": [],
      "authorship_tag": "ABX9TyMSAtGj5zq6rsC5DmRpPw9l"
    },
    "kernelspec": {
      "name": "python3",
      "display_name": "Python 3"
    },
    "language_info": {
      "name": "python"
    }
  },
  "cells": [
    {
      "cell_type": "code",
      "execution_count": 2,
      "metadata": {
        "id": "w-NvvkWhmP2c"
      },
      "outputs": [],
      "source": [
        "# Definition for singly-linked list.\n",
        "class ListNode(object):\n",
        "    def __init__(self, val=0, next=None):\n",
        "        self.val = val\n",
        "        self.next = next\n",
        "\n",
        "class Solution(object):\n",
        "    def removeNthFromEnd(self, head, n):\n",
        "        \"\"\"\n",
        "        :type head: Optional[ListNode]\n",
        "        :type n: int\n",
        "        :rtype: Optional[ListNode]\n",
        "        \"\"\"\n",
        "        count = 0\n",
        "        if head:\n",
        "            count = 1\n",
        "        else:\n",
        "            return head\n",
        "\n",
        "        currNode = head\n",
        "        while currNode.next:\n",
        "            count += 1\n",
        "            currNode = currNode.next\n",
        "\n",
        "        nFront = (count-n)+1\n",
        "        count = 1\n",
        "\n",
        "        if count == nFront and head.next:\n",
        "            head = head.next\n",
        "            return head\n",
        "\n",
        "        if count == nFront:\n",
        "            head = None\n",
        "            return head\n",
        "\n",
        "        currNode = head\n",
        "        while currNode.next:\n",
        "            count += 1\n",
        "            if count == nFront:\n",
        "                currNode.next = currNode.next.next\n",
        "                return head\n",
        "            currNode = currNode.next\n",
        "\n",
        ""
      ]
    }
  ]
}