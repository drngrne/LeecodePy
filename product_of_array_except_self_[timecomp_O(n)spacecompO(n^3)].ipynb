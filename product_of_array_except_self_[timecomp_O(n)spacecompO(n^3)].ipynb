{
  "nbformat": 4,
  "nbformat_minor": 0,
  "metadata": {
    "colab": {
      "provenance": [],
      "authorship_tag": "ABX9TyPMynJ7QquUbzFSbvVx/tPV"
    },
    "kernelspec": {
      "name": "python3",
      "display_name": "Python 3"
    },
    "language_info": {
      "name": "python"
    }
  },
  "cells": [
    {
      "cell_type": "code",
      "execution_count": 15,
      "metadata": {
        "id": "XSlchYh43YJv"
      },
      "outputs": [],
      "source": [
        "class Solution(object):\n",
        "    def productExceptSelf(self, nums):\n",
        "        numsLen = len(nums)\n",
        "        lastId = numsLen - 1\n",
        "        prefixArr =[1]*len(nums)\n",
        "        suffixArr =[1]*len(nums)\n",
        "        prodArr =[1]*len(nums)\n",
        "\n",
        "        for idi, i in enumerate(nums):\n",
        "            if idi == 0:\n",
        "                prefixArr[0] = 1\n",
        "                continue\n",
        "            prefixArr[idi] = prefixArr[idi-1]*nums[idi-1]\n",
        "\n",
        "\n",
        "        for idj, j in enumerate(nums[::-1]):\n",
        "            if idj == 0:\n",
        "                suffixArr[lastId] = 1\n",
        "                continue\n",
        "            suffixArr[lastId-idj] = suffixArr[lastId-idj+1] * nums[lastId-idj+1]\n",
        "\n",
        "        for  idk, k in enumerate(prodArr):\n",
        "            prodArr[idk] = prefixArr[idk] * suffixArr[idk]\n",
        "        return prodArr"
      ]
    },
    {
      "cell_type": "code",
      "source": [
        "sol1 = Solution()\n",
        "print(sol1.productExceptSelf([1,2,3,0,0]))"
      ],
      "metadata": {
        "colab": {
          "base_uri": "https://localhost:8080/"
        },
        "id": "4qjtz9k1mS6Q",
        "outputId": "d65216be-9bd6-48ed-954d-c439946152fc"
      },
      "execution_count": 13,
      "outputs": [
        {
          "output_type": "stream",
          "name": "stdout",
          "text": [
            "[0, 0, 0, 0, 0]\n"
          ]
        }
      ]
    }
  ]
}